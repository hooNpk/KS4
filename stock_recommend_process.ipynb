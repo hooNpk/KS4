{
 "cells": [
  {
   "cell_type": "markdown",
   "metadata": {},
   "source": [
    "## KRX에서 받은 excel 파일을 읽어들여 종목코드 정리"
   ]
  },
  {
   "cell_type": "code",
   "execution_count": 2,
   "metadata": {},
   "outputs": [],
   "source": [
    "import pandas as pd\n",
    "#xls_kosdak = pd.read_excel('kosdak_list.xls', sheet_name='kosdak_list', index_col=0)\n",
    "kospi_code = pd.read_excel('kospi_list.xlsx')[['회사명', '종목코드']]\n",
    "kospi_code.columns = ['corporate_name', 'code']\n",
    "kospi_code.set_index('corporate_name', inplace=True)\n",
    "kosdak_code = pd.read_excel('kosdak_list.xlsx')[['회사명', '종목코드']]\n",
    "kosdak_code.columns = ['corporate_name', 'code']\n",
    "kosdak_code.set_index('corporate_name', inplace=True)"
   ]
  },
  {
   "cell_type": "markdown",
   "metadata": {},
   "source": [
    "## 네이버 금융에서 일자별 가격 데이터 임포트"
   ]
  },
  {
   "cell_type": "code",
   "execution_count": 24,
   "metadata": {},
   "outputs": [
    {
     "name": "stdout",
     "output_type": "stream",
     "text": [
      "http://finance.naver.com/item/frgn.nhn?code=238490\n",
      "         date  price  diff  diff_per  volume   gigwan  foreign\n",
      "0  2019-11-22  24550   350     -1.41   57485   2960.0 -12054.0\n",
      "1  2019-11-21  24900   100     -0.40   99160  -3976.0   1688.0\n",
      "2  2019-11-20  25000  1000     -3.85   96096   5670.0   -889.0\n",
      "3  2019-11-19  26000   550     -2.07  166840  -3391.0 -16900.0\n",
      "4  2019-11-18  26550  1000      3.91  256636  42493.0  31296.0\n",
      "5  2019-11-15  25550  1050      4.29  187624  25379.0  27629.0\n",
      "6  2019-11-14  24500  1600      6.99  201823  28069.0   6201.0\n",
      "7  2019-11-13  22900   650     -2.76   42481   3405.0   -270.0\n",
      "8  2019-11-12  23550   250      1.07   46743   -698.0   1865.0\n",
      "9  2019-11-11  23300   150     -0.64   54710   2024.0   -971.0\n",
      "10 2019-11-08  23450   150      0.64   43704    579.0   -610.0\n",
      "11 2019-11-07  23300   650     -2.71   58500   -658.0  -2159.0\n",
      "12 2019-11-06  23950   450     -1.84   56606   8826.0   1909.0\n",
      "13 2019-11-05  24400   400      1.67  141250   6036.0 -21124.0\n",
      "14 2019-11-04  24000   500      2.13  117560    178.0  -6594.0\n",
      "15 2019-11-01  23500   300     -1.26   63232  -2063.0  -5349.0\n",
      "16 2019-10-31  23800   200      0.85   66762      0.0   1576.0\n",
      "17 2019-10-30  23600  1100     -4.45  106282   -275.0   -139.0\n",
      "18 2019-10-29  24700   600     -2.37   89279    -43.0   4266.0\n",
      "19 2019-10-28  25300   350     -1.36  104513 -11252.0 -14267.0\n"
     ]
    }
   ],
   "source": [
    "from bs4 import BeautifulSoup\n",
    "import requests\n",
    "import numpy as np\n",
    "\n",
    "def get_code(stock_name):\n",
    "    code = kosdak_code['code'][stock_name]\n",
    "    return (code)\n",
    "\n",
    "def get_url(stock_code):\n",
    "    url = 'http://finance.naver.com/item/frgn.nhn?code={code_num}'.format(code_num=stock_code)\n",
    "    print(url)\n",
    "    return(url)\n",
    "\n",
    "def str_tidy(elem):\n",
    "    elem = elem.replace(',', '')\n",
    "    elem = elem.replace('\\n', '')\n",
    "    elem = elem.replace('\\t', '')\n",
    "    elem = elem.replace('%', '')\n",
    "    return elem\n",
    "\n",
    "def compose_df(url):\n",
    "    page = 1\n",
    "    pg_url = '{url}&page={page_num}'.format(url=url, page_num=page)\n",
    "    \n",
    "    #GET HTML Document\n",
    "    r = requests.get(pg_url)\n",
    "    html_doc = r.text\n",
    "    soup = BeautifulSoup(html_doc)\n",
    "    soup.prettify()\n",
    "    day_price = soup.find('table', summary='외국인 기관 순매매 거래량에 관한표이며 날짜별로 정보를 제공합니다.')\n",
    "    trs = day_price.find_all('tr')\n",
    "    \n",
    "    #data별 리스트\n",
    "    date = []\n",
    "    price = []\n",
    "    diff = []\n",
    "    diff_per = []\n",
    "    volume = []\n",
    "    gigwan = []\n",
    "    foreign = []\n",
    "    \n",
    "    for i in range(3, len(trs)):\n",
    "        tds = trs[i].find_all('td')\n",
    "        if(i%8==0 or i%8==1 or i%8==2):\n",
    "            #비어있는 td 들 빼주는 코드.\n",
    "           continue\n",
    "        date.append(tds[0].text)\n",
    "        price.append(tds[1].text)\n",
    "        diff.append(tds[2].text)\n",
    "        diff_per.append(tds[3].text)\n",
    "        volume.append(tds[4].text)\n",
    "        gigwan.append(tds[5].text)\n",
    "        foreign.append(tds[6].text)\n",
    "    \n",
    "    date = pd.Series(np.array(date))\n",
    "    price = pd.Series(np.array(price))\n",
    "    diff = pd.Series(np.array(diff))\n",
    "    diff_per = pd.Series(np.array(diff_per))\n",
    "    volume = pd.Series(np.array(volume))\n",
    "    gigwan = pd.Series(np.array(gigwan))\n",
    "    foreign = pd.Series(np.array(foreign))\n",
    "    \n",
    "    #Data Tidying\n",
    "    date = pd.to_datetime(date, errors='coerce')\n",
    "    price = price.apply(str_tidy)\n",
    "    price = pd.to_numeric(price, errors='coerce')\n",
    "    diff = diff.apply(str_tidy)\n",
    "    diff = pd.to_numeric(diff, errors='coerce')\n",
    "    diff_per = diff_per.apply(str_tidy)\n",
    "    diff_per = pd.to_numeric(diff_per, errors='coerce', downcast='float')\n",
    "    volume = volume.apply(str_tidy)\n",
    "    volume = pd.to_numeric(volume, errors='coerce')\n",
    "    gigwan = gigwan.apply(str_tidy)\n",
    "    gigwan = pd.to_numeric(gigwan, errors='coerce', downcast='float')\n",
    "    foreign = foreign.apply(str_tidy)\n",
    "    foreign = pd.to_numeric(foreign, errors='coerce', downcast='float')\n",
    "    \n",
    "    df = pd.DataFrame({\"date\":date, \"price\":price, \"diff\":diff, \"diff_per\":diff_per, \"volume\":volume, \"gigwan\":gigwan,\n",
    "                      \"foreign\":foreign})\n",
    "    return df\n",
    "\n",
    "\n",
    "code_HIMS = get_code('힘스')\n",
    "df = compose_df(get_url(code_HIMS))"
   ]
  },
  {
   "cell_type": "code",
   "execution_count": null,
   "metadata": {},
   "outputs": [],
   "source": []
  }
 ],
 "metadata": {
  "kernelspec": {
   "display_name": "Python 3",
   "language": "python",
   "name": "python3"
  },
  "language_info": {
   "codemirror_mode": {
    "name": "ipython",
    "version": 3
   },
   "file_extension": ".py",
   "mimetype": "text/x-python",
   "name": "python",
   "nbconvert_exporter": "python",
   "pygments_lexer": "ipython3",
   "version": "3.7.4"
  }
 },
 "nbformat": 4,
 "nbformat_minor": 2
}
